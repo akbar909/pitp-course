{
 "cells": [
  {
   "cell_type": "code",
   "execution_count": 69,
   "id": "2773c625-cfb7-4938-b305-370611506054",
   "metadata": {},
   "outputs": [],
   "source": [
    "from sklearn.linear_model import LinearRegression\n",
    "from sklearn.model_selection import train_test_split\n",
    "from sklearn.metrics import mean_squared_error, r2_score\n",
    "import pandas as pd\n",
    "import matplotlib.pyplot as plt\n",
    "import numpy as np"
   ]
  },
  {
   "cell_type": "code",
   "execution_count": 21,
   "id": "3fc13944-18db-4331-aae3-763009890a3d",
   "metadata": {},
   "outputs": [],
   "source": [
    "a = [[1],[2],[3],[4],[5]]\n",
    "b = [2,4,6,8,10]"
   ]
  },
  {
   "cell_type": "code",
   "execution_count": 22,
   "id": "43a0c3df-20a4-4c59-84c0-cc4a141a5a8e",
   "metadata": {},
   "outputs": [],
   "source": [
    "c = LinearRegression()"
   ]
  },
  {
   "cell_type": "code",
   "execution_count": 23,
   "id": "7f11dddc-3c8e-4844-827a-1e9817e7d38a",
   "metadata": {},
   "outputs": [],
   "source": [
    "d = c.fit(a,b)"
   ]
  },
  {
   "cell_type": "code",
   "execution_count": 24,
   "id": "c95e249d-6055-44c0-8197-4b753730a368",
   "metadata": {},
   "outputs": [
    {
     "data": {
      "text/plain": [
       "array([12.])"
      ]
     },
     "execution_count": 24,
     "metadata": {},
     "output_type": "execute_result"
    }
   ],
   "source": [
    "e = c.predict([[6]])\n",
    "e"
   ]
  },
  {
   "cell_type": "code",
   "execution_count": 41,
   "id": "3be9b8b6-04a1-4d72-af88-2f3cc77d710e",
   "metadata": {},
   "outputs": [],
   "source": [
    "temp = [[36], [38], [40], [42],[44], [46],[48]]\n",
    "ice_sell = [100, 105, 110, 115, 120,125, 130]"
   ]
  },
  {
   "cell_type": "code",
   "execution_count": 42,
   "id": "67b839d4-7ba1-47c2-a648-23aef42a5307",
   "metadata": {},
   "outputs": [],
   "source": [
    "model =LinearRegression()"
   ]
  },
  {
   "cell_type": "code",
   "execution_count": 43,
   "id": "55e14cea-8ef2-48be-abb8-901b7819d764",
   "metadata": {},
   "outputs": [],
   "source": [
    "train_model = model.fit(temp, ice_sell)"
   ]
  },
  {
   "cell_type": "code",
   "execution_count": 45,
   "id": "0fda4cbf-5efd-4859-992a-e9bc1efb675d",
   "metadata": {},
   "outputs": [
    {
     "data": {
      "text/plain": [
       "array([100.])"
      ]
     },
     "execution_count": 45,
     "metadata": {},
     "output_type": "execute_result"
    }
   ],
   "source": [
    "predict_model = model.predict([[36]])\n",
    "\n",
    "predict_model"
   ]
  },
  {
   "cell_type": "code",
   "execution_count": 46,
   "id": "61f1f390-a4fd-468d-8fbb-b27af3165013",
   "metadata": {},
   "outputs": [],
   "source": [
    "house_data = {\n",
    "    'size_sqft': [1500, 2000, 2500, 3000, 3500],\n",
    "    'price': [300000, 400000, 500000, 600000, 700000]\n",
    "}"
   ]
  },
  {
   "cell_type": "code",
   "execution_count": 50,
   "id": "827323d3-16e1-464e-86ae-0193796feff2",
   "metadata": {},
   "outputs": [
    {
     "data": {
      "text/html": [
       "<div>\n",
       "<style scoped>\n",
       "    .dataframe tbody tr th:only-of-type {\n",
       "        vertical-align: middle;\n",
       "    }\n",
       "\n",
       "    .dataframe tbody tr th {\n",
       "        vertical-align: top;\n",
       "    }\n",
       "\n",
       "    .dataframe thead th {\n",
       "        text-align: right;\n",
       "    }\n",
       "</style>\n",
       "<table border=\"1\" class=\"dataframe\">\n",
       "  <thead>\n",
       "    <tr style=\"text-align: right;\">\n",
       "      <th></th>\n",
       "      <th>size_sqft</th>\n",
       "      <th>price</th>\n",
       "    </tr>\n",
       "  </thead>\n",
       "  <tbody>\n",
       "    <tr>\n",
       "      <th>0</th>\n",
       "      <td>1500</td>\n",
       "      <td>300000</td>\n",
       "    </tr>\n",
       "    <tr>\n",
       "      <th>1</th>\n",
       "      <td>2000</td>\n",
       "      <td>400000</td>\n",
       "    </tr>\n",
       "    <tr>\n",
       "      <th>2</th>\n",
       "      <td>2500</td>\n",
       "      <td>500000</td>\n",
       "    </tr>\n",
       "    <tr>\n",
       "      <th>3</th>\n",
       "      <td>3000</td>\n",
       "      <td>600000</td>\n",
       "    </tr>\n",
       "    <tr>\n",
       "      <th>4</th>\n",
       "      <td>3500</td>\n",
       "      <td>700000</td>\n",
       "    </tr>\n",
       "  </tbody>\n",
       "</table>\n",
       "</div>"
      ],
      "text/plain": [
       "   size_sqft   price\n",
       "0       1500  300000\n",
       "1       2000  400000\n",
       "2       2500  500000\n",
       "3       3000  600000\n",
       "4       3500  700000"
      ]
     },
     "execution_count": 50,
     "metadata": {},
     "output_type": "execute_result"
    }
   ],
   "source": [
    "house_df = pd.DataFrame(house_data)\n",
    "\n",
    "house_df"
   ]
  },
  {
   "cell_type": "code",
   "execution_count": 51,
   "id": "f0dfcf04-d065-4aaa-ad85-3288d0b593f0",
   "metadata": {},
   "outputs": [],
   "source": [
    "X_house = house_df[['size_sqft']]\n",
    "y_house = house_df['price']"
   ]
  },
  {
   "cell_type": "code",
   "execution_count": 72,
   "id": "b07291bf-1179-4971-afa5-d74d703a27d7",
   "metadata": {},
   "outputs": [],
   "source": [
    "house_model = LinearRegression()"
   ]
  },
  {
   "cell_type": "code",
   "execution_count": 73,
   "id": "58a9fefc-45e2-4fb7-b10b-bddda91b08a8",
   "metadata": {},
   "outputs": [],
   "source": [
    "model_train_for_house_price = house_model.fit(X_house, y_house)"
   ]
  },
  {
   "cell_type": "code",
   "execution_count": 74,
   "id": "76ae321e-0de4-4376-997f-f93e4be3269e",
   "metadata": {},
   "outputs": [
    {
     "name": "stdout",
     "output_type": "stream",
     "text": [
      "Predicted price for 3300 sq.ft: $660,000.00\n"
     ]
    },
    {
     "name": "stderr",
     "output_type": "stream",
     "text": [
      "C:\\Users\\Admin\\AppData\\Local\\Programs\\Python\\Python310\\lib\\site-packages\\sklearn\\utils\\validation.py:2749: UserWarning: X does not have valid feature names, but LinearRegression was fitted with feature names\n",
      "  warnings.warn(\n"
     ]
    }
   ],
   "source": [
    "predict_model_price = house_model.predict([[3300]])\n",
    "print(f'Predicted price for 3300 sq.ft: ${predict_model_price[0]:,.2f}')"
   ]
  },
  {
   "cell_type": "code",
   "execution_count": null,
   "id": "dd20a809-d2b1-45ae-ae32-58cb504708bd",
   "metadata": {},
   "outputs": [],
   "source": []
  }
 ],
 "metadata": {
  "kernelspec": {
   "display_name": "Python 3 (ipykernel)",
   "language": "python",
   "name": "python3"
  },
  "language_info": {
   "codemirror_mode": {
    "name": "ipython",
    "version": 3
   },
   "file_extension": ".py",
   "mimetype": "text/x-python",
   "name": "python",
   "nbconvert_exporter": "python",
   "pygments_lexer": "ipython3",
   "version": "3.10.0"
  }
 },
 "nbformat": 4,
 "nbformat_minor": 5
}
