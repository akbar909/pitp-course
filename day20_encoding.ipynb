{
 "cells": [
  {
   "cell_type": "code",
   "execution_count": 22,
   "id": "d0a413cf-ae78-4b22-b7c1-1ef541d52b9e",
   "metadata": {},
   "outputs": [],
   "source": [
    "import pandas as pd\n",
    "import numpy as np\n",
    "import matplotlib.pyplot as plt\n",
    "import seaborn as sns\n",
    "from sklearn.preprocessing import LabelEncoder, OneHotEncoder, OrdinalEncoder\n",
    "from sklearn.linear_model import LogisticRegression\n",
    "from sklearn.model_selection import train_test_split\n"
   ]
  },
  {
   "cell_type": "code",
   "execution_count": 2,
   "id": "8e045847-d2de-454f-8b11-9c140ac55293",
   "metadata": {},
   "outputs": [
    {
     "data": {
      "text/html": [
       "<div>\n",
       "<style scoped>\n",
       "    .dataframe tbody tr th:only-of-type {\n",
       "        vertical-align: middle;\n",
       "    }\n",
       "\n",
       "    .dataframe tbody tr th {\n",
       "        vertical-align: top;\n",
       "    }\n",
       "\n",
       "    .dataframe thead th {\n",
       "        text-align: right;\n",
       "    }\n",
       "</style>\n",
       "<table border=\"1\" class=\"dataframe\">\n",
       "  <thead>\n",
       "    <tr style=\"text-align: right;\">\n",
       "      <th></th>\n",
       "      <th>total_bill</th>\n",
       "      <th>tip</th>\n",
       "      <th>sex</th>\n",
       "      <th>smoker</th>\n",
       "      <th>day</th>\n",
       "      <th>time</th>\n",
       "      <th>size</th>\n",
       "    </tr>\n",
       "  </thead>\n",
       "  <tbody>\n",
       "    <tr>\n",
       "      <th>0</th>\n",
       "      <td>16.99</td>\n",
       "      <td>1.01</td>\n",
       "      <td>Female</td>\n",
       "      <td>No</td>\n",
       "      <td>Sun</td>\n",
       "      <td>Dinner</td>\n",
       "      <td>2</td>\n",
       "    </tr>\n",
       "    <tr>\n",
       "      <th>1</th>\n",
       "      <td>10.34</td>\n",
       "      <td>1.66</td>\n",
       "      <td>Male</td>\n",
       "      <td>No</td>\n",
       "      <td>Sun</td>\n",
       "      <td>Dinner</td>\n",
       "      <td>3</td>\n",
       "    </tr>\n",
       "    <tr>\n",
       "      <th>2</th>\n",
       "      <td>21.01</td>\n",
       "      <td>3.50</td>\n",
       "      <td>Male</td>\n",
       "      <td>No</td>\n",
       "      <td>Sun</td>\n",
       "      <td>Dinner</td>\n",
       "      <td>3</td>\n",
       "    </tr>\n",
       "    <tr>\n",
       "      <th>3</th>\n",
       "      <td>23.68</td>\n",
       "      <td>3.31</td>\n",
       "      <td>Male</td>\n",
       "      <td>No</td>\n",
       "      <td>Sun</td>\n",
       "      <td>Dinner</td>\n",
       "      <td>2</td>\n",
       "    </tr>\n",
       "    <tr>\n",
       "      <th>4</th>\n",
       "      <td>24.59</td>\n",
       "      <td>3.61</td>\n",
       "      <td>Female</td>\n",
       "      <td>No</td>\n",
       "      <td>Sun</td>\n",
       "      <td>Dinner</td>\n",
       "      <td>4</td>\n",
       "    </tr>\n",
       "  </tbody>\n",
       "</table>\n",
       "</div>"
      ],
      "text/plain": [
       "   total_bill   tip     sex smoker  day    time  size\n",
       "0       16.99  1.01  Female     No  Sun  Dinner     2\n",
       "1       10.34  1.66    Male     No  Sun  Dinner     3\n",
       "2       21.01  3.50    Male     No  Sun  Dinner     3\n",
       "3       23.68  3.31    Male     No  Sun  Dinner     2\n",
       "4       24.59  3.61  Female     No  Sun  Dinner     4"
      ]
     },
     "execution_count": 2,
     "metadata": {},
     "output_type": "execute_result"
    }
   ],
   "source": [
    "df = sns.load_dataset('tips')\n",
    "df.head()"
   ]
  },
  {
   "cell_type": "code",
   "execution_count": 3,
   "id": "da92358a-d04e-4536-bd89-45281b38c0d2",
   "metadata": {},
   "outputs": [
    {
     "data": {
      "text/plain": [
       "time\n",
       "Dinner    176\n",
       "Lunch      68\n",
       "Name: count, dtype: int64"
      ]
     },
     "execution_count": 3,
     "metadata": {},
     "output_type": "execute_result"
    }
   ],
   "source": [
    "df['time'].value_counts()"
   ]
  },
  {
   "cell_type": "code",
   "execution_count": 4,
   "id": "671d742e-66c6-405c-a865-5c727848e3a6",
   "metadata": {},
   "outputs": [],
   "source": [
    "le = LabelEncoder()"
   ]
  },
  {
   "cell_type": "code",
   "execution_count": 5,
   "id": "95becf83-0622-4d02-9ed5-e38c273dcacf",
   "metadata": {},
   "outputs": [
    {
     "data": {
      "text/html": [
       "<div>\n",
       "<style scoped>\n",
       "    .dataframe tbody tr th:only-of-type {\n",
       "        vertical-align: middle;\n",
       "    }\n",
       "\n",
       "    .dataframe tbody tr th {\n",
       "        vertical-align: top;\n",
       "    }\n",
       "\n",
       "    .dataframe thead th {\n",
       "        text-align: right;\n",
       "    }\n",
       "</style>\n",
       "<table border=\"1\" class=\"dataframe\">\n",
       "  <thead>\n",
       "    <tr style=\"text-align: right;\">\n",
       "      <th></th>\n",
       "      <th>total_bill</th>\n",
       "      <th>tip</th>\n",
       "      <th>sex</th>\n",
       "      <th>smoker</th>\n",
       "      <th>day</th>\n",
       "      <th>time</th>\n",
       "      <th>size</th>\n",
       "      <th>encoded_time</th>\n",
       "    </tr>\n",
       "  </thead>\n",
       "  <tbody>\n",
       "    <tr>\n",
       "      <th>0</th>\n",
       "      <td>16.99</td>\n",
       "      <td>1.01</td>\n",
       "      <td>Female</td>\n",
       "      <td>No</td>\n",
       "      <td>Sun</td>\n",
       "      <td>Dinner</td>\n",
       "      <td>2</td>\n",
       "      <td>0</td>\n",
       "    </tr>\n",
       "    <tr>\n",
       "      <th>1</th>\n",
       "      <td>10.34</td>\n",
       "      <td>1.66</td>\n",
       "      <td>Male</td>\n",
       "      <td>No</td>\n",
       "      <td>Sun</td>\n",
       "      <td>Dinner</td>\n",
       "      <td>3</td>\n",
       "      <td>0</td>\n",
       "    </tr>\n",
       "    <tr>\n",
       "      <th>2</th>\n",
       "      <td>21.01</td>\n",
       "      <td>3.50</td>\n",
       "      <td>Male</td>\n",
       "      <td>No</td>\n",
       "      <td>Sun</td>\n",
       "      <td>Dinner</td>\n",
       "      <td>3</td>\n",
       "      <td>0</td>\n",
       "    </tr>\n",
       "    <tr>\n",
       "      <th>3</th>\n",
       "      <td>23.68</td>\n",
       "      <td>3.31</td>\n",
       "      <td>Male</td>\n",
       "      <td>No</td>\n",
       "      <td>Sun</td>\n",
       "      <td>Dinner</td>\n",
       "      <td>2</td>\n",
       "      <td>0</td>\n",
       "    </tr>\n",
       "    <tr>\n",
       "      <th>4</th>\n",
       "      <td>24.59</td>\n",
       "      <td>3.61</td>\n",
       "      <td>Female</td>\n",
       "      <td>No</td>\n",
       "      <td>Sun</td>\n",
       "      <td>Dinner</td>\n",
       "      <td>4</td>\n",
       "      <td>0</td>\n",
       "    </tr>\n",
       "  </tbody>\n",
       "</table>\n",
       "</div>"
      ],
      "text/plain": [
       "   total_bill   tip     sex smoker  day    time  size  encoded_time\n",
       "0       16.99  1.01  Female     No  Sun  Dinner     2             0\n",
       "1       10.34  1.66    Male     No  Sun  Dinner     3             0\n",
       "2       21.01  3.50    Male     No  Sun  Dinner     3             0\n",
       "3       23.68  3.31    Male     No  Sun  Dinner     2             0\n",
       "4       24.59  3.61  Female     No  Sun  Dinner     4             0"
      ]
     },
     "execution_count": 5,
     "metadata": {},
     "output_type": "execute_result"
    }
   ],
   "source": [
    "df['encoded_time'] = le.fit_transform(df['time'])\n",
    "\n",
    "df.head()"
   ]
  },
  {
   "cell_type": "code",
   "execution_count": 6,
   "id": "c115c0b0-84c8-46d7-90f3-70738d7fb5e0",
   "metadata": {},
   "outputs": [],
   "source": [
    "data = np.array([\"School\", \"Bachelor\", \"Masters\", \"PhD\"]).reshape(-1,1)"
   ]
  },
  {
   "cell_type": "code",
   "execution_count": 7,
   "id": "55ededc0-1faf-4064-ae70-7eebadead2f0",
   "metadata": {},
   "outputs": [],
   "source": [
    "ol = OrdinalEncoder()"
   ]
  },
  {
   "cell_type": "code",
   "execution_count": 8,
   "id": "5b3ed2b5-7e5b-4cec-9818-5467761b6c5d",
   "metadata": {},
   "outputs": [],
   "source": [
    "encoded = ol.fit_transform(data)"
   ]
  },
  {
   "cell_type": "code",
   "execution_count": 9,
   "id": "28ab14e9-ca28-47d7-b1e7-6b6066c6e1ab",
   "metadata": {},
   "outputs": [
    {
     "name": "stdout",
     "output_type": "stream",
     "text": [
      "Original Data [['School']\n",
      " ['Bachelor']\n",
      " ['Masters']\n",
      " ['PhD']]\n",
      "Encoded Data [[3.]\n",
      " [0.]\n",
      " [1.]\n",
      " [2.]]\n"
     ]
    }
   ],
   "source": [
    "print(\"Original Data\", data)\n",
    "print(\"Encoded Data\", encoded)"
   ]
  },
  {
   "cell_type": "markdown",
   "id": "72ee9930-3dba-48df-8d58-5ada411e9c64",
   "metadata": {},
   "source": [
    "###### Task 2: Customer Purchase Prediction\n",
    "###### Data:\n",
    "###### Gender = ['Male', 'Female', 'Male', 'Female', 'Female']\n",
    "###### Bought = ['No', 'Yes', 'No', 'Yes', 'Yes']\n",
    "###### Task:\n",
    "###### LabelEncoder se categorical values ko encode karo\n",
    "###### vLogistic Regression model train karo\n",
    "###### Predict karo agar koi new customer \"Male\" ho to kya wo product khareedega"
   ]
  },
  {
   "cell_type": "code",
   "execution_count": 21,
   "id": "e61b1348",
   "metadata": {},
   "outputs": [
    {
     "name": "stdout",
     "output_type": "stream",
     "text": [
      "Prediction for new customer 'Male': ['No']\n",
      "Model accuracy on test set: 1.0\n"
     ]
    },
    {
     "name": "stderr",
     "output_type": "stream",
     "text": [
      "c:\\Users\\Admin\\AppData\\Local\\Programs\\Python\\Python310\\lib\\site-packages\\sklearn\\utils\\validation.py:2749: UserWarning: X does not have valid feature names, but LogisticRegression was fitted with feature names\n",
      "  warnings.warn(\n"
     ]
    }
   ],
   "source": [
    "Gender = ['Male', 'Female', 'Female', 'Male', 'Female']\n",
    "Bought = ['No', 'Yes', 'Yes', 'No', 'Yes']\n",
    "\n",
    "data = pd.DataFrame({'Gender': Gender, 'Bought': Bought})\n",
    "\n",
    "le_gender = LabelEncoder()\n",
    "\n",
    "le_bought = LabelEncoder()\n",
    "data['Gender'] =  le_gender.fit_transform(data['Gender'])\n",
    "data['Bought'] = le_bought.fit_transform(data['Bought'])\n",
    "\n",
    "X = data[['Gender']]\n",
    "y = data['Bought']\n",
    "X_train, X_test, y_train, y_test = train_test_split(X, y, test_size=0.2, random_state=42)\n",
    "\n",
    "model = LogisticRegression()\n",
    "model.fit(X_train, y_train)\n",
    "new_customer = np.array([[le_gender.transform(['Male'])[0]]])\n",
    "prediction = model.predict(new_customer)\n",
    "print(\"Prediction for new customer 'Male':\", le_bought.inverse_transform(prediction))\n",
    "\n",
    "# check acccuracy\n",
    "accuracy = model.score(X_test, y_test)\n",
    "print(\"Model accuracy on test set:\", accuracy)"
   ]
  },
  {
   "cell_type": "markdown",
   "id": "02d6e6fd",
   "metadata": {},
   "source": [
    "Task 3: Car Loan Approval\n",
    "\n",
    "Data:\n",
    "JobType = ['Private', 'Govt', 'Private', 'Business', 'Govt']\n",
    "\n",
    "Approved = ['Yes', 'Yes', 'No', 'No', 'Yes']\n",
    "Task:\n",
    "\n",
    "JobType aur Approved ko encode karo\n",
    "\n",
    "Logistic Regression se train karo\n",
    "\n",
    "Predict karo agar kisi ka job type \"Business\" ho to loan milega ya nahi"
   ]
  },
  {
   "cell_type": "code",
   "execution_count": 32,
   "id": "e1595309",
   "metadata": {},
   "outputs": [
    {
     "name": "stdout",
     "output_type": "stream",
     "text": [
      "Prediction for new applicant 'Business': ['Yes']\n",
      "Model accuracy on test set: 0.6\n"
     ]
    },
    {
     "name": "stderr",
     "output_type": "stream",
     "text": [
      "c:\\Users\\Admin\\AppData\\Local\\Programs\\Python\\Python310\\lib\\site-packages\\sklearn\\utils\\validation.py:2749: UserWarning: X does not have valid feature names, but LogisticRegression was fitted with feature names\n",
      "  warnings.warn(\n"
     ]
    }
   ],
   "source": [
    "JobType = ['Private', 'Govt', 'Private', 'Business', 'Govt']\n",
    "Approved = ['Yes', 'Yes', 'No', 'No', 'Yes']\n",
    "\n",
    "data = pd.DataFrame({'JobType': JobType, 'Approved': Approved})\n",
    "le_job = LabelEncoder()\n",
    "le_approved = LabelEncoder()\n",
    "data['JobType'] = le_job.fit_transform(data['JobType'])\n",
    "data['Approved'] = le_approved.fit_transform(data['Approved'])\n",
    "X = data[['JobType']]\n",
    "y = data['Approved']\n",
    "\n",
    "model = LogisticRegression()\n",
    "model.fit(X, y)\n",
    "new_applicant = np.array([[le_job.transform(['Business'])[0]]])\n",
    "prediction = model.predict(new_applicant)\n",
    "print(\"Prediction for new applicant 'Business':\", le_approved.inverse_transform(prediction))\n",
    "# check accuracy\n",
    "accuracy = model.score(X, y)\n",
    "print(\"Model accuracy on test set:\", accuracy)"
   ]
  },
  {
   "cell_type": "markdown",
   "id": "f4393050",
   "metadata": {},
   "source": [
    " Task 4: Food Preference Prediction\n",
    "\n",
    "Data:\n",
    "Food = ['Veg', 'Non-Veg', 'Veg', 'Non-Veg', 'Veg']\n",
    "\n",
    "Liked = ['Yes', 'No', 'Yes', 'No', 'Yes']\n",
    "Task:\n",
    "\n",
    "LabelEncoder use karke strings ko numeric banao\n",
    "\n",
    "Model train karo aur predict karo agar koi “Non-Veg” item khae to kya wo pasand karega"
   ]
  },
  {
   "cell_type": "code",
   "execution_count": 33,
   "id": "15e76eac",
   "metadata": {},
   "outputs": [
    {
     "name": "stdout",
     "output_type": "stream",
     "text": [
      "Prediction for new person 'Veg': ['Yes']\n",
      "Model accuracy on test set: 1.0\n"
     ]
    },
    {
     "name": "stderr",
     "output_type": "stream",
     "text": [
      "c:\\Users\\Admin\\AppData\\Local\\Programs\\Python\\Python310\\lib\\site-packages\\sklearn\\utils\\validation.py:2749: UserWarning: X does not have valid feature names, but LogisticRegression was fitted with feature names\n",
      "  warnings.warn(\n"
     ]
    }
   ],
   "source": [
    "Food = ['Veg', 'Non-Veg', 'Veg', 'Non-Veg', 'Veg']\n",
    "Liked = ['Yes', 'No', 'Yes', 'No', 'Yes']\n",
    "\n",
    "data = pd.DataFrame({'Food': Food, 'Liked': Liked})\n",
    "le_food = LabelEncoder()\n",
    "le_liked = LabelEncoder()\n",
    "data['Food'] = le_food.fit_transform(data['Food'])\n",
    "data['Liked'] = le_liked.fit_transform(data['Liked'])\n",
    "X = data[['Food']]\n",
    "y = data['Liked']\n",
    "model = LogisticRegression()\n",
    "model.fit(X, y)\n",
    "new_person = np.array([[le_food.transform(['Veg'])[0]]])\n",
    "prediction = model.predict(new_person)\n",
    "print(\"Prediction for new person 'Veg':\", le_liked.inverse_transform(prediction))\n",
    "# check accuracy\n",
    "accuracy = model.score(X, y)\n",
    "print(\"Model accuracy on test set:\", accuracy)"
   ]
  },
  {
   "cell_type": "markdown",
   "id": "d56c6b0e",
   "metadata": {},
   "source": [
    "Task 5: Smartphone Purchase Based on Brand\n",
    "\n",
    "Data:\n",
    "Brand = ['Apple', 'Samsung', 'Xiaomi', 'Apple', 'Samsung']\n",
    "\n",
    "Buy = ['Yes', 'Yes', 'No', 'Yes', 'No']\n",
    "Task:\n",
    "\n",
    "Brand aur Buy dono encode karo\n",
    "\n",
    "Logistic Regression lagao\n",
    "\n",
    "Predict karo agar koi naya customer “Xiaomi” dekh raha hai to wo buy karega ya nahi"
   ]
  },
  {
   "cell_type": "code",
   "execution_count": 34,
   "id": "8e27cbd0",
   "metadata": {},
   "outputs": [
    {
     "name": "stdout",
     "output_type": "stream",
     "text": [
      "Prediction for new customer 'Apple': ['Yes']\n",
      "Model accuracy on test set: 0.8\n"
     ]
    },
    {
     "name": "stderr",
     "output_type": "stream",
     "text": [
      "c:\\Users\\Admin\\AppData\\Local\\Programs\\Python\\Python310\\lib\\site-packages\\sklearn\\utils\\validation.py:2749: UserWarning: X does not have valid feature names, but LogisticRegression was fitted with feature names\n",
      "  warnings.warn(\n"
     ]
    }
   ],
   "source": [
    "Brand = ['Apple', 'Samsung', 'Xiaomi', 'Apple', 'Samsung']\n",
    "Buy = ['Yes', 'Yes', 'No', 'Yes', 'No']\n",
    "\n",
    "data = pd.DataFrame({'Brand': Brand, 'Buy': Buy})\n",
    "le_brand = LabelEncoder()\n",
    "le_buy = LabelEncoder()\n",
    "data['Brand'] = le_brand.fit_transform(data['Brand'])\n",
    "data['Buy'] = le_buy.fit_transform(data['Buy'])\n",
    "X = data[['Brand']]\n",
    "y = data['Buy']\n",
    "model = LogisticRegression()\n",
    "model.fit(X, y)\n",
    "new_customer = np.array([[le_brand.transform(['Apple'])[0]]])\n",
    "prediction = model.predict(new_customer)\n",
    "print(\"Prediction for new customer 'Apple':\", le_buy.inverse_transform(prediction))\n",
    "# check accuracy\n",
    "accuracy = model.score(X, y)\n",
    "print(\"Model accuracy on test set:\", accuracy)"
   ]
  },
  {
   "cell_type": "markdown",
   "id": "2468e1d2",
   "metadata": {},
   "source": [
    "Task 6 : Admission Based on Gender\n",
    "\n",
    "Data:\n",
    "Gender = ['Male', 'Female', 'Male', 'Female', 'Male']\n",
    "\n",
    "Admitted = ['No', 'Yes', 'No', 'Yes', 'Yes']\n",
    "Task:\n",
    "\n",
    "LabelEncoder se Gender aur Admitted encode karo\n",
    "\n",
    "Logistic Regression model train karo\n",
    "\n",
    "Predict karo agar new applicant \"Male\" ho to admission milega ya nahi"
   ]
  },
  {
   "cell_type": "code",
   "execution_count": 43,
   "id": "13399387",
   "metadata": {},
   "outputs": [
    {
     "name": "stdout",
     "output_type": "stream",
     "text": [
      "Prediction for new applicant 'Female': ['Yes']\n",
      "Model accuracy on test set: 0.6\n"
     ]
    },
    {
     "name": "stderr",
     "output_type": "stream",
     "text": [
      "c:\\Users\\Admin\\AppData\\Local\\Programs\\Python\\Python310\\lib\\site-packages\\sklearn\\utils\\validation.py:2749: UserWarning: X does not have valid feature names, but LogisticRegression was fitted with feature names\n",
      "  warnings.warn(\n"
     ]
    }
   ],
   "source": [
    "Gender = ['Male', 'Female', 'Male', 'Female', 'Male']\n",
    "Admitted = ['No', 'Yes', 'No', 'Yes', 'Yes']\n",
    "\n",
    "data = pd.DataFrame({'Gender': Gender, 'Admitted': Admitted})\n",
    "le_gender = LabelEncoder()\n",
    "le_admitted = LabelEncoder()\n",
    "data['Gender'] = le_gender.fit_transform(data['Gender'])\n",
    "data['Admitted'] = le_admitted.fit_transform(data['Admitted'])\n",
    "\n",
    "X = data[['Gender']]\n",
    "y = data['Admitted']\n",
    "model = LogisticRegression()\n",
    "model.fit(X, y)\n",
    "new_applicant = np.array([[le_gender.transform(['Female'])[0]]])\n",
    "prediction = model.predict(new_applicant)\n",
    "print(\"Prediction for new applicant 'Female':\", le_admitted.inverse_transform(prediction))\n",
    "# check accuracy\n",
    "accuracy = model.score(X, y)\n",
    "print(\"Model accuracy on test set:\", accuracy)"
   ]
  },
  {
   "cell_type": "code",
   "execution_count": null,
   "id": "f2209dc8",
   "metadata": {},
   "outputs": [],
   "source": []
  }
 ],
 "metadata": {
  "kernelspec": {
   "display_name": "Python 3",
   "language": "python",
   "name": "python3"
  },
  "language_info": {
   "codemirror_mode": {
    "name": "ipython",
    "version": 3
   },
   "file_extension": ".py",
   "mimetype": "text/x-python",
   "name": "python",
   "nbconvert_exporter": "python",
   "pygments_lexer": "ipython3",
   "version": "3.10.0"
  }
 },
 "nbformat": 4,
 "nbformat_minor": 5
}
