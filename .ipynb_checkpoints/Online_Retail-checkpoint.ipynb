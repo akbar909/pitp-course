{
 "cells": [
  {
   "cell_type": "code",
   "execution_count": null,
   "id": "6a9dbce6-fa2a-4ce7-8f63-54b1af22ef9b",
   "metadata": {},
   "outputs": [],
   "source": [
    "import pandas as pd"
   ]
  },
  {
   "cell_type": "code",
   "execution_count": null,
   "id": "fc01b6c7-2b36-4de6-871e-a0e61ac7856e",
   "metadata": {},
   "outputs": [],
   "source": [
    "df = pd.read_excel('Online_Retail.xlsx')\n",
    "df.head()"
   ]
  },
  {
   "cell_type": "code",
   "execution_count": null,
   "id": "f6ff371f-5bd6-468c-a7ff-87bee3b730f8",
   "metadata": {},
   "outputs": [],
   "source": []
  }
 ],
 "metadata": {
  "kernelspec": {
   "display_name": "Python 3 (ipykernel)",
   "language": "python",
   "name": "python3"
  },
  "language_info": {
   "codemirror_mode": {
    "name": "ipython",
    "version": 3
   },
   "file_extension": ".py",
   "mimetype": "text/x-python",
   "name": "python",
   "nbconvert_exporter": "python",
   "pygments_lexer": "ipython3",
   "version": "3.10.0"
  }
 },
 "nbformat": 4,
 "nbformat_minor": 5
}
