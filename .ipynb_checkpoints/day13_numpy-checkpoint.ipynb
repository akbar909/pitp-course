{
 "cells": [
  {
   "cell_type": "code",
   "execution_count": 1,
   "id": "08252b33-ab54-4bee-a189-b33a34007332",
   "metadata": {},
   "outputs": [],
   "source": [
    "import numpy as np"
   ]
  },
  {
   "cell_type": "code",
   "execution_count": 3,
   "id": "345c93f4-261b-4d97-baea-c6d2fafd4b4b",
   "metadata": {},
   "outputs": [
    {
     "name": "stdout",
     "output_type": "stream",
     "text": [
      "[1.  2.  3.  4.  0.4]\n"
     ]
    }
   ],
   "source": [
    "a= np.array([1,2,3,4, 0.4])\n",
    "print(a)"
   ]
  },
  {
   "cell_type": "code",
   "execution_count": 4,
   "id": "36a09940-8750-4e62-8516-9d761b86617f",
   "metadata": {},
   "outputs": [
    {
     "data": {
      "text/plain": [
       "4"
      ]
     },
     "execution_count": 4,
     "metadata": {},
     "output_type": "execute_result"
    }
   ],
   "source": [
    "a= np.array([[[[1,2,3],[3,4,6],[10,20,40],[2,3,4]]]])\n",
    "a.ndim"
   ]
  },
  {
   "cell_type": "code",
   "execution_count": 6,
   "id": "08e75e92-1be3-46ed-b51e-d679f2324245",
   "metadata": {},
   "outputs": [
    {
     "name": "stdin",
     "output_type": "stream",
     "text": [
      "Enter num 1 :  1\n",
      "Enter num 2 :  2\n",
      "Enter num 3 :  3\n"
     ]
    },
    {
     "data": {
      "text/plain": [
       "array([[[ 1,  2,  3],\n",
       "        [ 2,  4,  7],\n",
       "        [ 3,  7, 10]]])"
      ]
     },
     "execution_count": 6,
     "metadata": {},
     "output_type": "execute_result"
    }
   ],
   "source": [
    "num1 = int(input(\"Enter num 1 : \"))\n",
    "num2 = int(input(\"Enter num 2 : \"))\n",
    "num3 = int(input(\"Enter num 3 : \"))\n",
    "\n",
    "arr = np.array([[\n",
    "    [num1, num2,num3],\n",
    "    [num2, num2**2,num2**2+num3 ],\n",
    "    [num3, num3+num2**2,num3+num2**2+num3 ]]])\n",
    "arr"
   ]
  },
  {
   "cell_type": "code",
   "execution_count": null,
   "id": "ca7648cb-4a9d-41de-93d0-d7a2ad10cc72",
   "metadata": {},
   "outputs": [
    {
     "name": "stdout",
     "output_type": "stream",
     "text": [
      "[[[ 1  2  3]\n",
      "  [ 2  4  7]\n",
      "  [ 3  7 14]]]\n",
      "4\n"
     ]
    }
   ],
   "source": [
    "print(arr)\n",
    "\n",
    "print(arr[0,1,1])"
   ]
  },
  {
   "cell_type": "code",
   "execution_count": 4,
   "id": "ff07f935",
   "metadata": {},
   "outputs": [
    {
     "data": {
      "text/plain": [
       "array([2, 4, 6, 8])"
      ]
     },
     "execution_count": 4,
     "metadata": {},
     "output_type": "execute_result"
    }
   ],
   "source": [
    "a = np.array([1,2,3,4,5,6,7,8,9])\n",
    "\n",
    "a[a%2==0]"
   ]
  },
  {
   "cell_type": "code",
   "execution_count": 7,
   "id": "d6814801-3a9b-4ebf-9588-4275025d1f13",
   "metadata": {},
   "outputs": [
    {
     "data": {
      "text/plain": [
       "array([4, 5, 6, 7, 8, 9])"
      ]
     },
     "execution_count": 7,
     "metadata": {},
     "output_type": "execute_result"
    }
   ],
   "source": [
    "b = a[a>3]\n",
    "b"
   ]
  },
  {
   "cell_type": "code",
   "execution_count": null,
   "id": "a189a503-7d90-43d8-a38a-d94d175711b2",
   "metadata": {},
   "outputs": [],
   "source": []
  }
 ],
 "metadata": {
  "kernelspec": {
   "display_name": "Python 3 (ipykernel)",
   "language": "python",
   "name": "python3"
  },
  "language_info": {
   "codemirror_mode": {
    "name": "ipython",
    "version": 3
   },
   "file_extension": ".py",
   "mimetype": "text/x-python",
   "name": "python",
   "nbconvert_exporter": "python",
   "pygments_lexer": "ipython3",
   "version": "3.10.0"
  }
 },
 "nbformat": 4,
 "nbformat_minor": 5
}
