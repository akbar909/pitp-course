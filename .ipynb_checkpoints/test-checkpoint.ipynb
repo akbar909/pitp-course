{
 "cells": [
  {
   "cell_type": "markdown",
   "id": "3eec7948-2f8e-4c69-b763-0a357e055253",
   "metadata": {},
   "source": [
    "#### Password"
   ]
  },
  {
   "cell_type": "code",
   "execution_count": 37,
   "id": "71cd4d6f-a7f0-4d9e-b474-0393377318b6",
   "metadata": {},
   "outputs": [],
   "source": [
    "def Password(n):\n",
    "    if (n > 0):\n",
    "        return n+Password(n-1)\n",
    "    else:\n",
    "        return 0"
   ]
  },
  {
   "cell_type": "code",
   "execution_count": 38,
   "id": "45df4ee6-8066-4eba-a3d1-140159a964cf",
   "metadata": {},
   "outputs": [
    {
     "data": {
      "text/plain": [
       "15"
      ]
     },
     "execution_count": 38,
     "metadata": {},
     "output_type": "execute_result"
    }
   ],
   "source": [
    "Password(5)"
   ]
  },
  {
   "cell_type": "code",
   "execution_count": 40,
   "id": "af0a5bbe-edd9-4d0c-b04c-c2570cf431a5",
   "metadata": {},
   "outputs": [
    {
     "name": "stdout",
     "output_type": "stream",
     "text": [
      "Mission: Admin login system ko hack karein.\n",
      "Aapke paas kewal 3 chances hain.\n",
      "Error: passwords.txt file nahi mila. Kripya file banakar phir se koshish karein.\n"
     ]
    }
   ],
   "source": [
    "import time\n",
    "\n",
    "def level_1_crack_the_login():\n",
    "    \"\"\"Level 1: Admin ka password crack karein.\"\"\"\n",
    "    \n",
    "    print(\"Mission: Admin login system ko hack karein.\")\n",
    "    print(\"Aapke paas kewal 3 chances hain.\")\n",
    "    \n",
    "    # passwords.txt se passwords load karein\n",
    "    try:\n",
    "        with open(\"passwords.txt\", \"r\") as file:\n",
    "            valid_passwords = [line.strip() for line in file.readlines()]\n",
    "    except FileNotFoundError:\n",
    "        print(\"Error: passwords.txt file nahi mila. Kripya file banakar phir se koshish karein.\")\n",
    "        return\n",
    "\n",
    "    chances = 3\n",
    "    for i in range(chances):\n",
    "        guess = input(f\"\\nPassword guess karein ({chances - i} chances baki): \")\n",
    "        \n",
    "        if guess in valid_passwords:\n",
    "            print(\"\\nACCESS GRANTED. Aapne admin password crack kar liya hai!\")\n",
    "            time.sleep(2)\n",
    "            # Yahan se next level ka function call hoga\n",
    "            # level_2_start()\n",
    "            return True  # Indicate success\n",
    "        else:\n",
    "            print(\"Password galat hai. Access denied.\")\n",
    "            time.sleep(1)\n",
    "            \n",
    "    print(\"\\nACCESS DENIED. 3 galat koshishein. Game Over!\")\n",
    "    return False # Indicate failure\n",
    "\n",
    "# Game shuru karein\n",
    "if __name__ == \"__main__\":\n",
    "    level_1_crack_the_login()\n",
    "\n"
   ]
  },
  {
   "cell_type": "code",
   "execution_count": null,
   "id": "8717d55b-2b47-4f3a-a3f5-3c0d51659edf",
   "metadata": {},
   "outputs": [],
   "source": []
  }
 ],
 "metadata": {
  "kernelspec": {
   "display_name": "Python 3 (ipykernel)",
   "language": "python",
   "name": "python3"
  },
  "language_info": {
   "codemirror_mode": {
    "name": "ipython",
    "version": 3
   },
   "file_extension": ".py",
   "mimetype": "text/x-python",
   "name": "python",
   "nbconvert_exporter": "python",
   "pygments_lexer": "ipython3",
   "version": "3.10.0"
  }
 },
 "nbformat": 4,
 "nbformat_minor": 5
}
